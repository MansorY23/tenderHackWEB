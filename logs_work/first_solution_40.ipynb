{
 "cells": [
  {
   "cell_type": "code",
   "execution_count": 1,
   "metadata": {
    "collapsed": true,
    "ExecuteTime": {
     "end_time": "2023-10-21T11:05:42.328795700Z",
     "start_time": "2023-10-21T11:05:42.312608900Z"
    }
   },
   "outputs": [],
   "source": [
    "import pandas as pd"
   ]
  },
  {
   "cell_type": "code",
   "execution_count": 2,
   "outputs": [],
   "source": [
    "df = pd.read_csv(\"Logi.csv\", sep=';')"
   ],
   "metadata": {
    "collapsed": false,
    "ExecuteTime": {
     "end_time": "2023-10-21T11:05:43.390826Z",
     "start_time": "2023-10-21T11:05:42.330933300Z"
    }
   }
  },
  {
   "cell_type": "code",
   "execution_count": 3,
   "outputs": [
    {
     "data": {
      "text/plain": "                                 id          create_date   \n0  6424198940e01f33f8b596fa9fe7391c  2023-10-09 00:00:01  \\\n1  9851574021c269d401accc3a1381259a  2023-10-09 00:00:02   \n2  35f4f5fc4fdd12717347c2064729930e  2023-10-09 00:00:02   \n3  49f9dc2cb58ab8db9f59b2487fbe0768  2023-10-09 00:00:02   \n4  4f4830735dfc264fb40d1424e3e02bb2  2023-10-09 00:00:08   \n\n                                                 log  \n0                    Unable to get integration token  \n1                    Unable to get integration token  \n2                    Unable to get integration token  \n3                    Unable to get integration token  \n4  Pp3.Contracts.Dto.Contract.Action.ContractActi...  ",
      "text/html": "<div>\n<style scoped>\n    .dataframe tbody tr th:only-of-type {\n        vertical-align: middle;\n    }\n\n    .dataframe tbody tr th {\n        vertical-align: top;\n    }\n\n    .dataframe thead th {\n        text-align: right;\n    }\n</style>\n<table border=\"1\" class=\"dataframe\">\n  <thead>\n    <tr style=\"text-align: right;\">\n      <th></th>\n      <th>id</th>\n      <th>create_date</th>\n      <th>log</th>\n    </tr>\n  </thead>\n  <tbody>\n    <tr>\n      <th>0</th>\n      <td>6424198940e01f33f8b596fa9fe7391c</td>\n      <td>2023-10-09 00:00:01</td>\n      <td>Unable to get integration token</td>\n    </tr>\n    <tr>\n      <th>1</th>\n      <td>9851574021c269d401accc3a1381259a</td>\n      <td>2023-10-09 00:00:02</td>\n      <td>Unable to get integration token</td>\n    </tr>\n    <tr>\n      <th>2</th>\n      <td>35f4f5fc4fdd12717347c2064729930e</td>\n      <td>2023-10-09 00:00:02</td>\n      <td>Unable to get integration token</td>\n    </tr>\n    <tr>\n      <th>3</th>\n      <td>49f9dc2cb58ab8db9f59b2487fbe0768</td>\n      <td>2023-10-09 00:00:02</td>\n      <td>Unable to get integration token</td>\n    </tr>\n    <tr>\n      <th>4</th>\n      <td>4f4830735dfc264fb40d1424e3e02bb2</td>\n      <td>2023-10-09 00:00:08</td>\n      <td>Pp3.Contracts.Dto.Contract.Action.ContractActi...</td>\n    </tr>\n  </tbody>\n</table>\n</div>"
     },
     "execution_count": 3,
     "metadata": {},
     "output_type": "execute_result"
    }
   ],
   "source": [
    "df.head()"
   ],
   "metadata": {
    "collapsed": false,
    "ExecuteTime": {
     "end_time": "2023-10-21T11:05:43.508454200Z",
     "start_time": "2023-10-21T11:05:43.358545800Z"
    }
   }
  },
  {
   "cell_type": "code",
   "execution_count": 4,
   "outputs": [
    {
     "data": {
      "text/plain": "log\nThe wait operation timed out                                                                                                                                                      5031\nExecution Timeout Expired.  The timeout period elapsed prior to completion of the operation or the server is not responding.                                                      4996\nPp3.Contracts.Dto.Contract.Action.ContractActionException: Действие по автоматическому отказу не разрешено                                                                        3458\nUnable to get integration token                                                                                                                                                   2121\nОшибка обработки запроса на регистрацию/изменение данных компании id: 21236398 type: 'Customer'                                                                                   1603\n                                                                                                                                                                                  ... \nДанные не могут быть проимпортированы по причине: Ранее была импортирована более поздняя версия сущности. PackageGuid : 37059077, PackageDateTime : 15.10.2023 11:18:05 +03:00       1\nДанные не могут быть проимпортированы по причине: Ранее была импортирована более поздняя версия сущности. PackageGuid : 37059109, PackageDateTime : 15.10.2023 11:18:07 +03:00       1\nДанные не могут быть проимпортированы по причине: Ранее была импортирована более поздняя версия сущности. PackageGuid : 37059110, PackageDateTime : 15.10.2023 11:18:07 +03:00       1\nДанные не могут быть проимпортированы по причине: Ранее была импортирована более поздняя версия сущности. PackageGuid : 37059111, PackageDateTime : 15.10.2023 11:18:07 +03:00       1\nФайл с fileId: 948B39FAD75E9F72F4FEB4343058BD8D, filePath://10.207.4.10/Cssp/Storage\\94\\8B\\948B39FAD75E9F72F4FEB4343058BD8D отстутствует на диске                                    1\nName: count, Length: 50393, dtype: int64"
     },
     "execution_count": 4,
     "metadata": {},
     "output_type": "execute_result"
    }
   ],
   "source": [
    "df.groupby(\"log\").count()[\"id\"].rename(\"count\").sort_values(ascending=False)"
   ],
   "metadata": {
    "collapsed": false,
    "ExecuteTime": {
     "end_time": "2023-10-21T11:05:43.925848200Z",
     "start_time": "2023-10-21T11:05:43.422717700Z"
    }
   }
  },
  {
   "cell_type": "code",
   "execution_count": 5,
   "outputs": [],
   "source": [
    "def extract_prefix(log):\n",
    "    if ':' in log:\n",
    "        return log.split(':')[0]\n",
    "    else:\n",
    "        return log\n",
    "\n",
    "df_s = df['log'].apply(extract_prefix)\n",
    "df_s = df_s.sort_values()"
   ],
   "metadata": {
    "collapsed": false,
    "ExecuteTime": {
     "end_time": "2023-10-21T11:05:44.286149200Z",
     "start_time": "2023-10-21T11:05:43.929947100Z"
    }
   }
  },
  {
   "cell_type": "code",
   "execution_count": 6,
   "outputs": [],
   "source": [
    "unique_logs = pd.Series()\n",
    "\n",
    "previous_prefix = None\n",
    "for log in df_s:\n",
    "    current_prefix = log[:5]\n",
    "    if current_prefix != previous_prefix:\n",
    "        unique_logs = pd.concat([unique_logs, pd.Series([log])], ignore_index=True)\n",
    "        previous_prefix = current_prefix\n",
    "unique_logs = unique_logs.sort_index().rename(\"id\")"
   ],
   "metadata": {
    "collapsed": false,
    "ExecuteTime": {
     "end_time": "2023-10-21T11:05:44.469728100Z",
     "start_time": "2023-10-21T11:05:44.294988400Z"
    }
   }
  },
  {
   "cell_type": "code",
   "execution_count": 7,
   "outputs": [],
   "source": [
    "unique_logs[unique_logs == \"Данные не могут быть обработаны по причине\"] = \"Данные не могут быть проимпортированы по причине: \" \\\n",
    "                                                                           \"Ранее была импортирована более поздняя версия сущности\"\n",
    "\n",
    "unique_logs[unique_logs == 'Connection ID \"14411518834966118972\", Request ID \"8001c23d-0006-c800-b63f-84710c7967bb\"'] = \"Connection ID\"\n",
    "\n",
    "unique_logs.iloc[8]= \"Failed executing DbCommand\"\n",
    "unique_logs[unique_logs == \"Проверка приглашений для 1bf4fe64-42a0-46f6-92ad-82db1faf11be\"] = \"Проверка приглашений\""
   ],
   "metadata": {
    "collapsed": false,
    "ExecuteTime": {
     "end_time": "2023-10-21T11:05:44.471603800Z",
     "start_time": "2023-10-21T11:05:44.431755800Z"
    }
   }
  },
  {
   "cell_type": "code",
   "execution_count": 8,
   "outputs": [
    {
     "data": {
      "text/plain": "0     '\u0002', hexadecimal value 0x02, is an invalid cha...\n1     An error has occurred in the task of cleaning ...\n2     An exception has occurred in the task of verif...\n3     An unhandled exception has occurred while exec...\n4                                         Connection ID\n5                             Could not execute command\n6                         Exception SendCommand command\n7     Execution Timeout Expired.  The timeout period...\n8                            Failed executing DbCommand\n9                                         Immediate job\n10                                    Kaluga workflowId\n11            NHibernate.Exceptions.GenericADOException\n12                                           OpComplete\n13    Pp3.Contracts.Dto.Contract.Action.ContractActi...\n14                                     R-FAULT rabbitmq\n15    Response already has started, cannot send Erro...\n16                                     S-FAULT rabbitmq\n17                     System.InvalidOperationException\n18    The database operation was expected to affect ...\n19                           The handle is invalid.\\r\\n\n20                         The wait operation timed out\n21              Unable to SendResult CreateAuction OpId\n22                             Unexpected error occured\n23    Unhandled error during Org.Keycloak.Events.Adm...\n24                                            job error\n25             Архив (УАС) не загрузился/не загружался.\n26    Данные не могут быть проимпортированы по причи...\n27    Для команды интеграции 00fa120e-fbe0-4d7b-bce9...\n28                                                  МЧД\n29                                  Не найден КПГЗ с Id\n30             Не удалось скачать файл из ЕИС по ссылке\n31    Невозможно запросить данные из УАС для \"Ежедне...\n32    Необработанная ошибка валидации МЧД попытка до...\n33       Ошибка авторизации в интеграционном апи. Login\n34                                 Проверка приглашений\n35                             Произошла ошибка импорта\n36          Реиндексация компаний завершилась с ошибкой\n37                        Событие обработано с ошибками\n38                                        Файл с fileId\nName: id, dtype: object"
     },
     "execution_count": 8,
     "metadata": {},
     "output_type": "execute_result"
    }
   ],
   "source": [
    "unique_logs"
   ],
   "metadata": {
    "collapsed": false,
    "ExecuteTime": {
     "end_time": "2023-10-21T11:05:44.507146700Z",
     "start_time": "2023-10-21T11:05:44.458888100Z"
    }
   }
  },
  {
   "cell_type": "code",
   "execution_count": 9,
   "outputs": [
    {
     "data": {
      "text/plain": "Series([], Name: id, dtype: object)"
     },
     "execution_count": 9,
     "metadata": {},
     "output_type": "execute_result"
    }
   ],
   "source": [
    "unique_logs[unique_logs.isin([\"Connection I\"])]"
   ],
   "metadata": {
    "collapsed": false,
    "ExecuteTime": {
     "end_time": "2023-10-21T11:05:44.585967400Z",
     "start_time": "2023-10-21T11:05:44.493178400Z"
    }
   }
  },
  {
   "cell_type": "code",
   "execution_count": 1,
   "outputs": [
    {
     "ename": "NameError",
     "evalue": "name 'df' is not defined",
     "output_type": "error",
     "traceback": [
      "\u001B[1;31m---------------------------------------------------------------------------\u001B[0m",
      "\u001B[1;31mNameError\u001B[0m                                 Traceback (most recent call last)",
      "Cell \u001B[1;32mIn[1], line 1\u001B[0m\n\u001B[1;32m----> 1\u001B[0m \u001B[43mdf\u001B[49m\u001B[38;5;241m.\u001B[39mhead()\n",
      "\u001B[1;31mNameError\u001B[0m: name 'df' is not defined"
     ]
    }
   ],
   "source": [
    "df.head()"
   ],
   "metadata": {
    "collapsed": false,
    "ExecuteTime": {
     "end_time": "2023-10-21T15:27:12.658346900Z",
     "start_time": "2023-10-21T15:27:12.408339300Z"
    }
   }
  }
 ],
 "metadata": {
  "kernelspec": {
   "display_name": "Python 3",
   "language": "python",
   "name": "python3"
  },
  "language_info": {
   "codemirror_mode": {
    "name": "ipython",
    "version": 2
   },
   "file_extension": ".py",
   "mimetype": "text/x-python",
   "name": "python",
   "nbconvert_exporter": "python",
   "pygments_lexer": "ipython2",
   "version": "2.7.6"
  }
 },
 "nbformat": 4,
 "nbformat_minor": 0
}
